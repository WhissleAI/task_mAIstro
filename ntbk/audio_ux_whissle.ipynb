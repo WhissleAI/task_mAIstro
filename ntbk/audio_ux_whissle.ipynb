{
 "cells": [
  {
   "cell_type": "markdown",
   "id": "b4cd66e8",
   "metadata": {},
   "source": [
    "# Audio UX\n",
    "\n",
    "Task mAIstro supports voice interactions using:\n",
    "- [OpenAI's Whisper](https://platform.openai.com/docs/guides/speech-to-text) for speech-to-text\n",
    "- [ElevenLabs](https://github.com/elevenlabs/elevenlabs-python) for text-to-speech\n",
    "\n",
    "### Install dependencies\n",
    "\n",
    "Ensure you have `ffmpeg` installed for using ElevenLabs. \n",
    "\n",
    "On MacOS, you can install it with `brew install ffmpeg`. "
   ]
  },
  {
   "cell_type": "code",
   "execution_count": null,
   "id": "d1fd88e4",
   "metadata": {},
   "outputs": [],
   "source": [
    "%%capture --no-stderr\n",
    "%pip install -U langchain_openai langgraph langchain_core sounddevice scipy elevenlabs "
   ]
  },
  {
   "cell_type": "markdown",
   "id": "44b724c3",
   "metadata": {},
   "source": [
    "### Set environment variables\n",
    "\n",
    "* Set your `OPENAI_API_KEY`\n",
    "* Set your `ELEVENLABS_API_KEY` (available [here](https://elevenlabs.io/api))\n",
    "* Optional: Set your `LANGCHAIN_API_KEY` (available [here](https://smith.langchain.com/)) if you want tracing or want to connect with a hosted deployment."
   ]
  },
  {
   "cell_type": "code",
   "execution_count": 1,
   "id": "c7311ebb",
   "metadata": {},
   "outputs": [],
   "source": [
    "import os, getpass\n",
    "\n",
    "def _set_env(var: str):\n",
    "    # Check if the variable is set in the OS environment\n",
    "    env_value = os.environ.get(var)\n",
    "    if not env_value:\n",
    "        # If not set, prompt the user for input\n",
    "        env_value = getpass.getpass(f\"{var}: \")\n",
    "    \n",
    "    # Set the environment variable for the current process\n",
    "    os.environ[var] = env_value\n",
    "\n",
    "_set_env(\"LANGCHAIN_API_KEY\")\n",
    "_set_env(\"ELEVENLABS_API_KEY\")\n",
    "_set_env(\"WHISSLE_AUTH_TOKEN\")\n",
    "\n",
    "import os\n",
    "os.environ[\"LANGCHAIN_TRACING_V2\"] = \"true\"\n",
    "os.environ[\"LANGCHAIN_PROJECT\"] = \"task-maistro-deployment\""
   ]
  },
  {
   "cell_type": "markdown",
   "id": "45f5e99c-9c95-4ec9-a879-45cb80c76179",
   "metadata": {},
   "source": [
    "### Connect to your deployment\n",
    "\n",
    "Connect to your deployment using the URL endpoint:\n",
    "- **Studio**: Found in Studio UI \n",
    "- **CLI**: Printed to console (typically `http://localhost:8123`)\n",
    "- **Cloud**: Available in LangGraph Deployment page\n",
    "\n",
    "We'll connect to the deployment as a [RemoteGraph](https://langchain-ai.github.io/langgraph/how-tos/use-remote-graph/#how-to-interact-with-the-deployment-using-remotegraph). \n"
   ]
  },
  {
   "cell_type": "code",
   "execution_count": 2,
   "id": "b2bdfbed-694a-4dbc-8ddf-e2649ec28181",
   "metadata": {},
   "outputs": [],
   "source": [
    "from langgraph.pregel.remote import RemoteGraph\n",
    "from langchain_core.messages import convert_to_messages\n",
    "from langchain_core.messages import HumanMessage, SystemMessage\n",
    "\n",
    "# Local deployment (via LangGraph Studio)\n",
    "local_deployment_url = \"http://localhost:64083\"\n",
    "\n",
    "# Deployment URL\n",
    "cloud_deployment_url = \"https://task-maistro-1b681add7a2b549499bb0cd21a7e5be4.default.us.langgraph.app\"\n",
    "\n",
    "# Graph name\n",
    "graph_name = \"task_maistro\" \n",
    "\n",
    "# Connect to the deployment\n",
    "remote_graph = RemoteGraph(graph_name, url=local_deployment_url)"
   ]
  },
  {
   "cell_type": "markdown",
   "id": "1770e138",
   "metadata": {},
   "source": [
    "You can test your deployment by running the following. "
   ]
  },
  {
   "cell_type": "code",
   "execution_count": 3,
   "id": "62c16a2c",
   "metadata": {},
   "outputs": [
    {
     "name": "stdout",
     "output_type": "stream",
     "text": [
      "================================\u001b[1m Human Message \u001b[0m=================================\n",
      "\n",
      "Hi I'm Lance. I live in San Francisco with my wife and have a 1 year old.\n",
      "==================================\u001b[1m Ai Message \u001b[0m==================================\n",
      "\n",
      "Hello Lance! It's great to meet you. If there's anything specific you need help with, like managing tasks or organizing your schedule, feel free to let me know!\n"
     ]
    }
   ],
   "source": [
    "# Int\n",
    "user_input = \"Hi I'm Lance. I live in San Francisco with my wife and have a 1 year old.\"\n",
    "config = {\"configurable\": {\"user_id\": \"Test-Deployment-User\"}}\n",
    "for chunk in remote_graph.stream({\"messages\": [HumanMessage(content=user_input)]}, stream_mode=\"values\", config=config):\n",
    "    convert_to_messages(chunk[\"messages\"])[-1].pretty_print()"
   ]
  },
  {
   "cell_type": "markdown",
   "id": "1169896f",
   "metadata": {},
   "source": [
    "### Add audio\n",
    "\n",
    "Our deployed graph has some benefits: \n",
    "* It has built-in support for long-term memory \n",
    "* It implements all the logic for task mAIstro \n",
    "\n",
    "But, we have a challenge:\n",
    "* It takes test as input and returns text as output\n",
    "\n",
    "We need to add audio input and output to the graph. So, we'll simply add two nodes to our graph:\n",
    "\n",
    "1. **Audio Input Node**\n",
    "   * Records microphone input (stop with Enter)\n",
    "   * Transcribes speech using Whisper\n",
    "   * Passes text to Task mAIstro\n",
    "\n",
    "2. **Audio Output Node**\n",
    "   * Takes Task mAIstro's text response\n",
    "   * Converts to speech via ElevenLabs\n",
    "   * Plays audio response\n",
    "\n",
    "We can achieve this by embedding our deployed graph [as a node](https://langchain-ai.github.io/langgraph/how-tos/use-remote-graph/#using-as-a-subgraph) in a new graph. "
   ]
  },
  {
   "cell_type": "code",
   "execution_count": 7,
   "id": "ea79d376-af11-4a85-af8e-9da2f8f1da2d",
   "metadata": {},
   "outputs": [
    {
     "data": {
      "image/png": "[encoded data removed]",
      "text/plain": [
       "<IPython.core.display.Image object>"
      ]
     },
     "metadata": {},
     "output_type": "display_data"
    }
   ],
   "source": [
    "import io\n",
    "import threading\n",
    "import numpy as np\n",
    "import sounddevice as sd\n",
    "from scipy.io.wavfile import write\n",
    "from IPython.display import Image, display\n",
    "\n",
    "from whissle import WhissleClient\n",
    "\n",
    "from elevenlabs import play, VoiceSettings\n",
    "from elevenlabs.client import ElevenLabs\n",
    "\n",
    "from langgraph.graph import StateGraph, MessagesState, END, START\n",
    "\n",
    "# Initialize Whissle client\n",
    "whissle_client = WhissleClient().sync_client\n",
    "\n",
    "\n",
    "# Initialize ElevenLabs client\n",
    "elevenlabs_client = ElevenLabs(api_key=os.getenv(\"ELEVENLABS_API_KEY\"))\n",
    "\n",
    "\n",
    "def record_audio_until_stop(state: MessagesState):\n",
    "    \"\"\"Records audio from microphone until Enter is pressed, saves to a .wav file, then processes it.\"\"\"\n",
    "\n",
    "    audio_data = []  # List to store audio chunks\n",
    "    recording = True  # Flag to control recording\n",
    "    sample_rate = 16000  # (kHz) Adequate for human voice frequency\n",
    "    audio_file_path = \"input_audio.wav\"  # Path to save the audio file\n",
    "\n",
    "    def record_audio():\n",
    "        \"\"\"Continuously records audio until the recording flag is set to False.\"\"\"\n",
    "        nonlocal audio_data, recording\n",
    "        with sd.InputStream(samplerate=sample_rate, channels=1, dtype='int16') as stream:\n",
    "            print(\"Recording your instruction! ... Press Enter to stop recording.\")\n",
    "            while recording:\n",
    "                audio_chunk, _ = stream.read(1024)  # Read audio data in chunks\n",
    "                audio_data.append(audio_chunk)\n",
    "\n",
    "    def stop_recording():\n",
    "        \"\"\"Waits for user input to stop the recording.\"\"\"\n",
    "        input()  # Wait for Enter key press\n",
    "        nonlocal recording\n",
    "        recording = False\n",
    "\n",
    "    # Start recording in a separate thread\n",
    "    recording_thread = threading.Thread(target=record_audio)\n",
    "    recording_thread.start()\n",
    "\n",
    "    # Start a thread to listen for the Enter key\n",
    "    stop_thread = threading.Thread(target=stop_recording)\n",
    "    stop_thread.start()\n",
    "\n",
    "    # Wait for both threads to complete\n",
    "    stop_thread.join()\n",
    "    recording_thread.join()\n",
    "\n",
    "    # Stack all audio chunks into a single NumPy array\n",
    "    audio_data = np.concatenate(audio_data, axis=0)\n",
    "\n",
    "    # Save the audio data to a local WAV file\n",
    "    write(audio_file_path, sample_rate, audio_data)\n",
    "    print(f\"Audio saved to {audio_file_path}\")\n",
    "\n",
    "    transcription = whissle_client.speech_to_text(\n",
    "        audio_file_path,\n",
    "        model_name=\"en-US-0.6b\",\n",
    "        timestamps=False,\n",
    "        boosted_lm_words=[\"reformer\"],\n",
    "        boosted_lm_score=80,\n",
    "    )\n",
    "\n",
    "    # Print the transcription\n",
    "    print(\"Here is the transcription:\", transcription.transcript)\n",
    "\n",
    "    # Return the transcription as a message\n",
    "    return {\"messages\": [HumanMessage(content=transcription.transcript)]}\n",
    "\n",
    "def play_audio(state: MessagesState):\n",
    "    \n",
    "    \"\"\"Plays the audio response from the remote graph with ElevenLabs.\"\"\"\n",
    "\n",
    "    # Response from the agent \n",
    "    response = state['messages'][-1]\n",
    "\n",
    "    # Prepare text by replacing ** with empty strings\n",
    "    # These can cause unexpected behavior in ElevenLabs\n",
    "    cleaned_text = response.content.replace(\"**\", \"\")\n",
    "    \n",
    "    # Call text_to_speech API with turbo model for low latency\n",
    "    response = elevenlabs_client.text_to_speech.convert(\n",
    "        voice_id=\"pNInz6obpgDQGcFmaJgB\", # Adam pre-made voice\n",
    "        output_format=\"mp3_22050_32\",\n",
    "        text=cleaned_text,\n",
    "        model_id=\"eleven_turbo_v2_5\", \n",
    "        voice_settings=VoiceSettings(\n",
    "            stability=0.0,\n",
    "            similarity_boost=1.0,\n",
    "            style=0.0,\n",
    "            use_speaker_boost=True,\n",
    "        ),\n",
    "    )\n",
    "    \n",
    "    # Play the audio back\n",
    "    play(response)\n",
    "\n",
    "# Define parent graph\n",
    "builder = StateGraph(MessagesState)\n",
    "\n",
    "# Add remote graph directly as a node\n",
    "builder.add_node(\"audio_input\", record_audio_until_stop)\n",
    "builder.add_node(\"todo_app\", remote_graph)\n",
    "builder.add_node(\"audio_output\", play_audio)\n",
    "builder.add_edge(START, \"audio_input\")\n",
    "builder.add_edge(\"audio_input\", \"todo_app\")\n",
    "builder.add_edge(\"todo_app\",\"audio_output\")\n",
    "builder.add_edge(\"audio_output\",END)\n",
    "graph = builder.compile()\n",
    "\n",
    "display(Image(graph.get_graph(xray=0).draw_mermaid_png()))"
   ]
  },
  {
   "cell_type": "markdown",
   "id": "d5b16223",
   "metadata": {},
   "source": [
    "Optionally, you can supply a thread ID to ensure that conversation history is persisted. "
   ]
  },
  {
   "cell_type": "code",
   "execution_count": 8,
   "id": "1b7277b5",
   "metadata": {},
   "outputs": [],
   "source": [
    "import uuid\n",
    "thread_id = str(uuid.uuid4())"
   ]
  },
  {
   "cell_type": "markdown",
   "id": "297defe6",
   "metadata": {},
   "source": [
    "Simply, run this cell and speak into your microphone. When you are finished, press Enter."
   ]
  },
  {
   "cell_type": "code",
   "execution_count": 9,
   "id": "a18659da-1c49-48c1-8838-554f85b7876d",
   "metadata": {},
   "outputs": [
    {
     "name": "stdout",
     "output_type": "stream",
     "text": [
      "================================\u001b[1m Human Message \u001b[0m=================================\n",
      "\n",
      "Follow the user's instructions:\n",
      "Recording your instruction! ... Press Enter to stop recording.\n",
      "Audio saved to input_audio.wav\n",
      "{'transcript': 'Hi, how are you doing? ', 'duration_seconds': 2.1760001182556152, 'timestamps': [], 'language_code': 'en'}\n",
      "Here is the transcription: Hi, how are you doing? \n",
      "================================\u001b[1m Human Message \u001b[0m=================================\n",
      "\n",
      "Hi, how are you doing? \n",
      "==================================\u001b[1m Ai Message \u001b[0m==================================\n",
      "\n",
      "Hello! I'm here and ready to help you with your tasks. How can I assist you today?\n"
     ]
    }
   ],
   "source": [
    "# Set user ID for storing memories\n",
    "config = {\"configurable\": {\"user_id\": \"Test-Audio-UX\", \"thread_id\": thread_id}}\n",
    "\n",
    "# Kick off the graph, which will record user input until the user presses Enter\n",
    "for chunk in graph.stream({\"messages\":HumanMessage(content=\"Follow the user's instructions:\")}, stream_mode=\"values\", config=config):\n",
    "    chunk[\"messages\"][-1].pretty_print()"
   ]
  },
  {
   "cell_type": "code",
   "execution_count": null,
   "id": "2e5532fe",
   "metadata": {},
   "outputs": [],
   "source": []
  }
 ],
 "metadata": {
  "kernelspec": {
   "display_name": "venv",
   "language": "python",
   "name": "python3"
  },
  "language_info": {
   "codemirror_mode": {
    "name": "ipython",
    "version": 3
   },
   "file_extension": ".py",
   "mimetype": "text/x-python",
   "name": "python",
   "nbconvert_exporter": "python",
   "pygments_lexer": "ipython3",
   "version": "3.11.6"
  }
 },
 "nbformat": 4,
 "nbformat_minor": 5
}
